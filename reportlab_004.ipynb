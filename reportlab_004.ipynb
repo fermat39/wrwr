{
 "cells": [
  {
   "cell_type": "code",
   "execution_count": 8,
   "metadata": {},
   "outputs": [],
   "source": [
    "from reportlab.pdfgen import canvas\n",
    "from reportlab.pdfbase.ttfonts import TTFont\n",
    "from reportlab.pdfbase import pdfmetrics\n",
    "import reportlab\n",
    "\n",
    "import os"
   ]
  },
  {
   "cell_type": "code",
   "execution_count": 3,
   "metadata": {},
   "outputs": [
    {
     "data": {
      "text/plain": [
       "'d:\\\\workspace\\\\lecture_weekend\\\\venv_weekend\\\\lib\\\\site-packages\\\\reportlab'"
      ]
     },
     "execution_count": 3,
     "metadata": {},
     "output_type": "execute_result"
    }
   ],
   "source": [
    "reportlab_directory = os.path.dirname(reportlab.__file__)\n",
    "reportlab_directory"
   ]
  },
  {
   "cell_type": "code",
   "execution_count": 4,
   "metadata": {},
   "outputs": [
    {
     "data": {
      "text/plain": [
       "'d:\\\\workspace\\\\lecture_weekend\\\\venv_weekend\\\\lib\\\\site-packages\\\\reportlab\\\\fonts'"
      ]
     },
     "execution_count": 4,
     "metadata": {},
     "output_type": "execute_result"
    }
   ],
   "source": [
    "font_folder = os.path.join(reportlab_directory, \"fonts\")\n",
    "font_folder"
   ]
  },
  {
   "cell_type": "code",
   "execution_count": 12,
   "metadata": {},
   "outputs": [],
   "source": [
    "custom_font1 = TTFont(\"SANGJU Haerye\", \"./fonts/SANGJU Haerye.ttf\")\n",
    "custom_font2 = TTFont(\"KNPSKkomi\", \"./fonts/KNPSKkomi.ttf\")"
   ]
  },
  {
   "cell_type": "code",
   "execution_count": 13,
   "metadata": {},
   "outputs": [],
   "source": [
    "pdfmetrics.registerFont(custom_font1)\n",
    "pdfmetrics.registerFont(custom_font2)"
   ]
  },
  {
   "cell_type": "code",
   "execution_count": 15,
   "metadata": {},
   "outputs": [],
   "source": [
    "pdf = canvas.Canvas(\"004_pdf.pdf\", bottomup=0)\n",
    "pdf.setFont(\"SANGJU Haerye\", 25)\n",
    "pdf.drawString(30, 50, \"상주 해례본 폰트\")\n",
    "\n",
    "pdf.setFont(\"KNPSKkomi\", 50)\n",
    "pdf.setFillColorRGB(255, 107, 0)\n",
    "pdf.drawString(30, 150, \"국립공원 꼬미체\")\n",
    "pdf.save()"
   ]
  },
  {
   "cell_type": "code",
   "execution_count": null,
   "metadata": {},
   "outputs": [],
   "source": []
  }
 ],
 "metadata": {
  "kernelspec": {
   "display_name": "Python 3.9.13 ('venv_weekend': venv)",
   "language": "python",
   "name": "python3"
  },
  "language_info": {
   "codemirror_mode": {
    "name": "ipython",
    "version": 3
   },
   "file_extension": ".py",
   "mimetype": "text/x-python",
   "name": "python",
   "nbconvert_exporter": "python",
   "pygments_lexer": "ipython3",
   "version": "3.9.13"
  },
  "orig_nbformat": 4,
  "vscode": {
   "interpreter": {
    "hash": "e3df54b8a742a3a36803bcfcd4cdbaa3c54b6eb4d13a2578f57e1fd5371cc405"
   }
  }
 },
 "nbformat": 4,
 "nbformat_minor": 2
}
