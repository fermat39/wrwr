{
 "cells": [
  {
   "cell_type": "code",
   "execution_count": 1,
   "metadata": {},
   "outputs": [],
   "source": [
    "from reportlab.pdfgen import canvas\n",
    "from reportlab.lib import pdfencrypt"
   ]
  },
  {
   "cell_type": "code",
   "execution_count": 2,
   "metadata": {},
   "outputs": [],
   "source": [
    "pdf = canvas.Canvas(\"003_pdf.pdf\")"
   ]
  },
  {
   "cell_type": "code",
   "execution_count": 3,
   "metadata": {},
   "outputs": [],
   "source": [
    "fonts = pdf.getAvailableFonts()"
   ]
  },
  {
   "cell_type": "code",
   "execution_count": 5,
   "metadata": {},
   "outputs": [
    {
     "data": {
      "text/plain": [
       "['Courier',\n",
       " 'Courier-Bold',\n",
       " 'Courier-BoldOblique',\n",
       " 'Courier-Oblique',\n",
       " 'Helvetica',\n",
       " 'Helvetica-Bold',\n",
       " 'Helvetica-BoldOblique',\n",
       " 'Helvetica-Oblique',\n",
       " 'Symbol',\n",
       " 'Times-Bold',\n",
       " 'Times-BoldItalic',\n",
       " 'Times-Italic',\n",
       " 'Times-Roman',\n",
       " 'ZapfDingbats']"
      ]
     },
     "execution_count": 5,
     "metadata": {},
     "output_type": "execute_result"
    }
   ],
   "source": [
    "fonts"
   ]
  },
  {
   "cell_type": "code",
   "execution_count": 10,
   "metadata": {},
   "outputs": [],
   "source": [
    "pdf = canvas.Canvas(\"003_pdf.pdf\", bottomup=0)\n",
    "fonts = pdf.getAvailableFonts()\n",
    "y = 200\n",
    "for font in fonts:\n",
    "    pdf.setFont(font, 25)\n",
    "    pdf.setFillColorRGB(0, 0.1, 0.5)\n",
    "    pdf.drawString(30, y, font)\n",
    "    y = y + 30\n",
    "\n",
    "pdf.save()"
   ]
  },
  {
   "cell_type": "code",
   "execution_count": null,
   "metadata": {},
   "outputs": [],
   "source": []
  }
 ],
 "metadata": {
  "kernelspec": {
   "display_name": "Python 3.9.13 ('venv_weekend': venv)",
   "language": "python",
   "name": "python3"
  },
  "language_info": {
   "codemirror_mode": {
    "name": "ipython",
    "version": 3
   },
   "file_extension": ".py",
   "mimetype": "text/x-python",
   "name": "python",
   "nbconvert_exporter": "python",
   "pygments_lexer": "ipython3",
   "version": "3.9.13"
  },
  "orig_nbformat": 4,
  "vscode": {
   "interpreter": {
    "hash": "e3df54b8a742a3a36803bcfcd4cdbaa3c54b6eb4d13a2578f57e1fd5371cc405"
   }
  }
 },
 "nbformat": 4,
 "nbformat_minor": 2
}
