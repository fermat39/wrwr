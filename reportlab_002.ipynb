{
 "cells": [
  {
   "cell_type": "code",
   "execution_count": 1,
   "metadata": {},
   "outputs": [],
   "source": [
    "from reportlab.pdfgen import canvas\n",
    "from reportlab.lib import pdfencrypt"
   ]
  },
  {
   "cell_type": "code",
   "execution_count": 3,
   "metadata": {},
   "outputs": [
    {
     "data": {
      "text/plain": [
       "<reportlab.lib.pdfencrypt.StandardEncryption at 0x235c44e8a60>"
      ]
     },
     "execution_count": 3,
     "metadata": {},
     "output_type": "execute_result"
    }
   ],
   "source": [
    "pdf_encrypt = pdfencrypt.StandardEncryption(\"my_first_password\")\n",
    "pdf_encrypt"
   ]
  },
  {
   "cell_type": "code",
   "execution_count": 4,
   "metadata": {},
   "outputs": [],
   "source": [
    "pdf_encrypt = pdfencrypt.StandardEncryption(\"my_first_password\")\n",
    "pdf = canvas.Canvas(\"002_pdf.pdf\", bottomup=0, encrypt=pdf_encrypt)\n",
    "pdf.drawString(50, 50, \"Encrypted PDF\")\n",
    "pdf.showPage()\n",
    "pdf.save()"
   ]
  },
  {
   "cell_type": "code",
   "execution_count": null,
   "metadata": {},
   "outputs": [],
   "source": []
  }
 ],
 "metadata": {
  "kernelspec": {
   "display_name": "Python 3.9.13 ('venv_weekend': venv)",
   "language": "python",
   "name": "python3"
  },
  "language_info": {
   "codemirror_mode": {
    "name": "ipython",
    "version": 3
   },
   "file_extension": ".py",
   "mimetype": "text/x-python",
   "name": "python",
   "nbconvert_exporter": "python",
   "pygments_lexer": "ipython3",
   "version": "3.9.13"
  },
  "orig_nbformat": 4,
  "vscode": {
   "interpreter": {
    "hash": "e3df54b8a742a3a36803bcfcd4cdbaa3c54b6eb4d13a2578f57e1fd5371cc405"
   }
  }
 },
 "nbformat": 4,
 "nbformat_minor": 2
}
