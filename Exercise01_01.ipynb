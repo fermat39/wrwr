{
 "cells": [
  {
   "cell_type": "code",
   "execution_count": 1,
   "metadata": {},
   "outputs": [],
   "source": [
    "from typing import Tuple"
   ]
  },
  {
   "cell_type": "code",
   "execution_count": 2,
   "metadata": {},
   "outputs": [],
   "source": [
    "class Environment:\n",
    "    def __init__(self):\n",
    "        self._initial_state = 1\n",
    "        self._allowed_actions = [0, 1]  # 0: A, 1: B\n",
    "        self._states = [1, 2, 3]\n",
    "        self._current_state = self._initial_state\n",
    "\n",
    "    def step(self, action: int) -> Tuple[int, int]:\n",
    "        if action not in self._allowed_actions:\n",
    "            raise ValueError(\"Action is not allowed\")\n",
    "        reward = 0\n",
    "        if action == 0 and self._current_state == 1:\n",
    "            self._current_state = 2\n",
    "            reward = 1\n",
    "        elif action == 1 and self._current_state == 1:\n",
    "            self._current_state = 3\n",
    "            reward = 10\n",
    "        elif action == 0 and self._current_state == 2:\n",
    "            self._current_state = 1\n",
    "            reward = 0\n",
    "        elif action == 1 and self._current_state == 2:\n",
    "            self._current_state = 3\n",
    "            reward = 1\n",
    "        elif action == 0 and self._current_state == 3:\n",
    "            self._current_state = 2\n",
    "            reward = 0\n",
    "        elif action == 1 and self._current_state == 3:\n",
    "            self._current_state = 3\n",
    "            reward = 10\n",
    "\n",
    "        return self._current_state, reward\n",
    "\n",
    "    def reset(self) -> int:\n",
    "        self._current_state = self._initial_state\n",
    "        return self._current_state"
   ]
  },
  {
   "cell_type": "code",
   "execution_count": 3,
   "metadata": {},
   "outputs": [
    {
     "name": "stdout",
     "output_type": "stream",
     "text": [
      "Initial state is 1\n",
      "From state 1 to state 2 with action 0, reward: 1\n",
      "From state 2 to state 1 with action 0, reward: 0\n",
      "From state 1 to state 3 with action 1, reward: 10\n",
      "From state 3 to state 3 with action 1, reward: 10\n",
      "From state 3 to state 2 with action 0, reward: 0\n",
      "From state 2 to state 3 with action 1, reward: 1\n"
     ]
    }
   ],
   "source": [
    "env = Environment()\n",
    "state = env.reset()\n",
    "\n",
    "actions = [0, 0, 1, 1, 0, 1]\n",
    "\n",
    "print(f\"Initial state is {state}\")\n",
    "\n",
    "for action in actions:\n",
    "    next_state, reward = env.step(action)\n",
    "    print(f\"From state {state} to state {next_state} with action {action}, reward: {reward}\")\n",
    "    state = next_state"
   ]
  }
 ],
 "metadata": {
  "kernelspec": {
   "display_name": "Python 3.9.12 ('venv': venv)",
   "language": "python",
   "name": "python3"
  },
  "language_info": {
   "codemirror_mode": {
    "name": "ipython",
    "version": 3
   },
   "file_extension": ".py",
   "mimetype": "text/x-python",
   "name": "python",
   "nbconvert_exporter": "python",
   "pygments_lexer": "ipython3",
   "version": "3.9.12"
  },
  "vscode": {
   "interpreter": {
    "hash": "7304a1b801ef5c0882575fd54a30b4d38e364a842e3cf0f9152593e3f004090b"
   }
  }
 },
 "nbformat": 4,
 "nbformat_minor": 4
}
