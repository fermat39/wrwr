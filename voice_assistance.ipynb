{
 "cells": [
  {
   "cell_type": "code",
   "execution_count": 1,
   "metadata": {},
   "outputs": [
    {
     "name": "stdout",
     "output_type": "stream",
     "text": [
      "Collecting speechrecognition\n",
      "  Using cached SpeechRecognition-3.8.1-py2.py3-none-any.whl (32.8 MB)\n",
      "Installing collected packages: speechrecognition\n",
      "Successfully installed speechrecognition-3.8.1\n"
     ]
    },
    {
     "name": "stderr",
     "output_type": "stream",
     "text": [
      "WARNING: You are using pip version 21.2.4; however, version 21.3.1 is available.\n",
      "You should consider upgrading via the 'C:\\workspace\\lecture_kookmin\\venv_lecture_kookmin\\Scripts\\python.exe -m pip install --upgrade pip' command.\n"
     ]
    }
   ],
   "source": [
    "!pip install speechrecognition"
   ]
  },
  {
   "cell_type": "code",
   "execution_count": 2,
   "metadata": {},
   "outputs": [],
   "source": [
    "import speech_recognition as sr"
   ]
  },
  {
   "cell_type": "code",
   "execution_count": 13,
   "metadata": {},
   "outputs": [],
   "source": [
    "def transform():\n",
    "    r = sr.Recognizer()\n",
    "    with sr.Microphone() as source:\n",
    "        r.pause_threshold = 0.8\n",
    "        said = r.listen(source)\n",
    "        try:\n",
    "            print(\"제가 들은 말씀입니다\")\n",
    "            q = r.recognize_google(said, language = \"ko\")\n",
    "            return q\n",
    "        except sr.UnknownValueError:\n",
    "            print(\"무슨 말이지 이해를 잘 못했어요!\")\n",
    "            return \"무슨 말이지 이해를 잘 못했어요!\"\n",
    "        except sr.RequestError:\n",
    "            print(\"현재 서비스가 불가합니다.\")\n",
    "            return \"현재 서비스가 불가합니다.\"\n",
    "        except:\n",
    "            return \"대기중입니다\""
   ]
  },
  {
   "cell_type": "code",
   "execution_count": null,
   "metadata": {},
   "outputs": [],
   "source": [
    "# 맥 이나 리눅스"
   ]
  },
  {
   "cell_type": "code",
   "execution_count": null,
   "metadata": {},
   "outputs": [],
   "source": [
    "!pip install pyaudio "
   ]
  },
  {
   "cell_type": "code",
   "execution_count": null,
   "metadata": {},
   "outputs": [],
   "source": [
    "# 윈도우의 경우"
   ]
  },
  {
   "cell_type": "code",
   "execution_count": 7,
   "metadata": {},
   "outputs": [
    {
     "name": "stdout",
     "output_type": "stream",
     "text": [
      "Processing .\\pyaudio-0.2.11-cp39-cp39-win_amd64.whl\n",
      "Installing collected packages: PyAudio\n",
      "Successfully installed PyAudio-0.2.11\n"
     ]
    }
   ],
   "source": [
    "!pip install PyAudio-0.2.11-cp39-cp39-win_amd64.whl"
   ]
  },
  {
   "cell_type": "code",
   "execution_count": 17,
   "metadata": {},
   "outputs": [
    {
     "name": "stdout",
     "output_type": "stream",
     "text": [
      "제가 들은 말씀입니다\n"
     ]
    },
    {
     "data": {
      "text/plain": [
       "'실습을 하는 중입니다'"
      ]
     },
     "execution_count": 17,
     "metadata": {},
     "output_type": "execute_result"
    }
   ],
   "source": [
    "transform()"
   ]
  },
  {
   "cell_type": "code",
   "execution_count": 18,
   "metadata": {},
   "outputs": [
    {
     "name": "stdout",
     "output_type": "stream",
     "text": [
      "Collecting pyttsx3\n",
      "  Using cached pyttsx3-2.90-py3-none-any.whl (39 kB)\n",
      "Collecting comtypes\n",
      "  Using cached comtypes-1.1.10-py3-none-any.whl\n",
      "Requirement already satisfied: pywin32 in .\\venv_lecture_kookmin\\lib\\site-packages (from pyttsx3) (302)\n",
      "Collecting pypiwin32\n",
      "  Using cached pypiwin32-223-py3-none-any.whl (1.7 kB)\n",
      "Installing collected packages: pypiwin32, comtypes, pyttsx3\n",
      "Successfully installed comtypes-1.1.10 pypiwin32-223 pyttsx3-2.90\n"
     ]
    }
   ],
   "source": [
    "!pip install pyttsx3"
   ]
  },
  {
   "cell_type": "code",
   "execution_count": 19,
   "metadata": {},
   "outputs": [],
   "source": [
    "import pyttsx3"
   ]
  },
  {
   "cell_type": "code",
   "execution_count": 20,
   "metadata": {},
   "outputs": [],
   "source": [
    "def speaking(message):\n",
    "    engine = pyttsx3.init()\n",
    "    engine.say(message)\n",
    "    engine.runAndWait()"
   ]
  },
  {
   "cell_type": "code",
   "execution_count": 24,
   "metadata": {},
   "outputs": [],
   "source": [
    "speaking(\"진행하겠습니다.\")"
   ]
  },
  {
   "cell_type": "code",
   "execution_count": 31,
   "metadata": {},
   "outputs": [
    {
     "name": "stdout",
     "output_type": "stream",
     "text": [
      "<Voice id=HKEY_LOCAL_MACHINE\\SOFTWARE\\Microsoft\\Speech\\Voices\\Tokens\\TTS_MS_KO-KR_HEAMI_11.0\n",
      "          name=Microsoft Heami Desktop - Korean\n",
      "          languages=[]\n",
      "          gender=None\n",
      "          age=None>\n",
      "<Voice id=HKEY_LOCAL_MACHINE\\SOFTWARE\\Microsoft\\Speech\\Voices\\Tokens\\TTS_MS_EN-US_ZIRA_11.0\n",
      "          name=Microsoft Zira Desktop - English (United States)\n",
      "          languages=[]\n",
      "          gender=None\n",
      "          age=None>\n",
      "<Voice id=HKEY_LOCAL_MACHINE\\SOFTWARE\\Microsoft\\Speech\\Voices\\Tokens\\TTS_MS_DE-DE_HEDDA_11.0\n",
      "          name=Microsoft Hedda Desktop - German\n",
      "          languages=[]\n",
      "          gender=None\n",
      "          age=None>\n",
      "<Voice id=HKEY_LOCAL_MACHINE\\SOFTWARE\\Microsoft\\Speech\\Voices\\Tokens\\TTS_MS_ZH-CN_HUIHUI_11.0\n",
      "          name=Microsoft Huihui Desktop - Chinese (Simplified)\n",
      "          languages=[]\n",
      "          gender=None\n",
      "          age=None>\n"
     ]
    }
   ],
   "source": [
    "engine = pyttsx3.init()\n",
    "for voice in engine.getProperty(\"voices\"):\n",
    "    print(voice)"
   ]
  },
  {
   "cell_type": "code",
   "execution_count": 39,
   "metadata": {},
   "outputs": [],
   "source": [
    "id = \"HKEY_LOCAL_MACHINE\\SOFTWARE\\Microsoft\\Speech\\Voices\\Tokens\\TTS_MS_KO-KR_HEAMI_11.0\"\n",
    "engine.setProperty(\"voice\", id)\n",
    "# engine.say(\"你好！ 中国人!\")\n",
    "engine.say(\"한국말 이해안 됨!\")\n",
    "engine.say(\"我只懂中文。\")\n",
    "engine.runAndWait()\n",
    "\n"
   ]
  },
  {
   "cell_type": "code",
   "execution_count": 40,
   "metadata": {},
   "outputs": [],
   "source": [
    "import datetime"
   ]
  },
  {
   "cell_type": "code",
   "execution_count": 41,
   "metadata": {},
   "outputs": [],
   "source": [
    "def query_day():\n",
    "    day = datetime.date.today()\n",
    "    weekday = day.weekday()\n",
    "    mapping = {\n",
    "        0: \"월요일\",\n",
    "        1: \"화요일\",\n",
    "        2: \"수요일\",\n",
    "        3: \"목요일\",\n",
    "        4: \"금요일\",\n",
    "        5: \"토요일\",\n",
    "        6: \"일요일\",\n",
    "    }\n",
    "\n",
    "    try:\n",
    "        speaking(f\"오늘은 {mapping[weekday]}입니다. {mapping[weekday]}에도 수업받으시느냐 고생이시네요!\")\n",
    "    except:\n",
    "        pass"
   ]
  },
  {
   "cell_type": "code",
   "execution_count": 42,
   "metadata": {},
   "outputs": [],
   "source": [
    "query_day()"
   ]
  },
  {
   "cell_type": "code",
   "execution_count": 43,
   "metadata": {},
   "outputs": [],
   "source": [
    "def query_time():\n",
    "    time = datetime.datetime.now().strftime(\"%I:%M:%S\")\n",
    "    speaking(f\"현재 시간은 {time[1]}시 {time[3:5]}분입니다.\")"
   ]
  },
  {
   "cell_type": "code",
   "execution_count": 44,
   "metadata": {},
   "outputs": [],
   "source": [
    "query_time()"
   ]
  },
  {
   "cell_type": "code",
   "execution_count": 45,
   "metadata": {},
   "outputs": [],
   "source": [
    "def whatsup():\n",
    "    speaking(\"\"\"\n",
    "    안녕하세요!\n",
    "    저는 당신의 개인비서입니다!\n",
    "    무엇을 도와드릴까요?\n",
    "    \"\"\")"
   ]
  },
  {
   "cell_type": "code",
   "execution_count": 46,
   "metadata": {},
   "outputs": [],
   "source": [
    "whatsup()"
   ]
  },
  {
   "cell_type": "code",
   "execution_count": 47,
   "metadata": {},
   "outputs": [],
   "source": [
    "import webbrowser"
   ]
  },
  {
   "cell_type": "code",
   "execution_count": 50,
   "metadata": {},
   "outputs": [],
   "source": [
    "def querying():\n",
    "    whatsup()\n",
    "    while (True):\n",
    "        q = transform()  # STT 부분\n",
    "\n",
    "        if \"무슨 요일\" in q:\n",
    "            query_day()\n",
    "            continue\n",
    "        elif \"요일\" in q:\n",
    "            query_day()\n",
    "            continue\n",
    "        elif \"몇 시\" in q:\n",
    "            query_time()\n",
    "            continue\n",
    "        elif \"유튜브 시작\" in q:\n",
    "            speaking(\"유튜브를 시작하겠습니다. 잠시만 기다려 주세요\")\n",
    "            webbrowser.open(\"https://www.youtube.com\")\n",
    "        elif \"네이버 시작\" in q:\n",
    "            speaking(\"네이버를 시작하겠습니다. 잠시만 기다려 주세요\")\n",
    "            webbrowser.open(\"https://www.naver.com\")            \n",
    "        elif \"이제 그만\" in q:\n",
    "            speaking(\"아쉽지만 다음에 또 뵙겠습니다.\")\n",
    "            break"
   ]
  },
  {
   "cell_type": "code",
   "execution_count": 51,
   "metadata": {},
   "outputs": [
    {
     "name": "stdout",
     "output_type": "stream",
     "text": [
      "제가 들은 말씀입니다\n",
      "무슨 말이지 이해를 잘 못했어요!\n",
      "제가 들은 말씀입니다\n",
      "제가 들은 말씀입니다\n",
      "제가 들은 말씀입니다\n",
      "제가 들은 말씀입니다\n",
      "제가 들은 말씀입니다\n",
      "제가 들은 말씀입니다\n"
     ]
    }
   ],
   "source": [
    "querying()"
   ]
  },
  {
   "cell_type": "code",
   "execution_count": null,
   "metadata": {},
   "outputs": [],
   "source": []
  }
 ],
 "metadata": {
  "interpreter": {
   "hash": "e1cdfdc93b6ba3a3382be8dc93f18fa817bcc4186ce2e9083f9a2054050162a9"
  },
  "kernelspec": {
   "display_name": "Python 3.9.9 64-bit ('venv_lecture_kookmin': venv)",
   "language": "python",
   "name": "python3"
  },
  "language_info": {
   "codemirror_mode": {
    "name": "ipython",
    "version": 3
   },
   "file_extension": ".py",
   "mimetype": "text/x-python",
   "name": "python",
   "nbconvert_exporter": "python",
   "pygments_lexer": "ipython3",
   "version": "3.9.9"
  },
  "orig_nbformat": 4
 },
 "nbformat": 4,
 "nbformat_minor": 2
}
