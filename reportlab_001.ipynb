{
 "cells": [
  {
   "cell_type": "code",
   "execution_count": 1,
   "metadata": {},
   "outputs": [
    {
     "name": "stdout",
     "output_type": "stream",
     "text": [
      "Collecting reportlab\n",
      "  Downloading reportlab-3.6.10-cp39-cp39-win_amd64.whl (2.3 MB)\n",
      "     ---------------------------------------- 2.3/2.3 MB 3.4 MB/s eta 0:00:00\n",
      "Collecting pillow>=9.0.0\n",
      "  Using cached Pillow-9.1.1-cp39-cp39-win_amd64.whl (3.3 MB)\n",
      "Installing collected packages: pillow, reportlab\n",
      "Successfully installed pillow-9.1.1 reportlab-3.6.10\n"
     ]
    },
    {
     "name": "stderr",
     "output_type": "stream",
     "text": [
      "WARNING: You are using pip version 22.0.4; however, version 22.1.2 is available.\n",
      "You should consider upgrading via the 'D:\\workspace\\lecture_weekend\\venv_weekend\\Scripts\\python.exe -m pip install --upgrade pip' command.\n"
     ]
    }
   ],
   "source": [
    "!pip install reportlab"
   ]
  },
  {
   "cell_type": "code",
   "execution_count": 2,
   "metadata": {},
   "outputs": [],
   "source": [
    "from reportlab.pdfgen import canvas\n",
    "from reportlab.lib import pdfencrypt"
   ]
  },
  {
   "cell_type": "code",
   "execution_count": 7,
   "metadata": {},
   "outputs": [],
   "source": [
    "pdf = canvas.Canvas(\"my_first_pdf.pdf\")\n",
    "pdf.save()"
   ]
  },
  {
   "cell_type": "code",
   "execution_count": 9,
   "metadata": {},
   "outputs": [],
   "source": [
    "pdf = canvas.Canvas(\"my_first_pdf.pdf\")\n",
    "pdf.drawString(0, 10, \"My First String PDF\")\n",
    "pdf.save()"
   ]
  },
  {
   "cell_type": "code",
   "execution_count": 11,
   "metadata": {},
   "outputs": [],
   "source": [
    "pdf = canvas.Canvas(\"my_first_pdf.pdf\")\n",
    "pdf.drawString(10, 10, \"My First String PDF\")\n",
    "pdf.save()"
   ]
  },
  {
   "cell_type": "code",
   "execution_count": 14,
   "metadata": {},
   "outputs": [],
   "source": [
    "pdf = canvas.Canvas(\"my_first_pdf.pdf\")\n",
    "pdf.drawString(10, 10, \"My First String PDF\")\n",
    "pdf.showPage()\n",
    "pdf.drawString(10, 10, \"My First String PDF\")\n",
    "pdf.drawString(10, 50, \"My Second String PDF\")\n",
    "pdf.drawString(10, 100, \"My Thrid String PDF\")\n",
    "pdf.showPage()\n",
    "pdf.save()"
   ]
  },
  {
   "cell_type": "code",
   "execution_count": null,
   "metadata": {},
   "outputs": [],
   "source": []
  }
 ],
 "metadata": {
  "kernelspec": {
   "display_name": "Python 3.9.13 ('venv_weekend': venv)",
   "language": "python",
   "name": "python3"
  },
  "language_info": {
   "codemirror_mode": {
    "name": "ipython",
    "version": 3
   },
   "file_extension": ".py",
   "mimetype": "text/x-python",
   "name": "python",
   "nbconvert_exporter": "python",
   "pygments_lexer": "ipython3",
   "version": "3.9.13"
  },
  "orig_nbformat": 4,
  "vscode": {
   "interpreter": {
    "hash": "e3df54b8a742a3a36803bcfcd4cdbaa3c54b6eb4d13a2578f57e1fd5371cc405"
   }
  }
 },
 "nbformat": 4,
 "nbformat_minor": 2
}
